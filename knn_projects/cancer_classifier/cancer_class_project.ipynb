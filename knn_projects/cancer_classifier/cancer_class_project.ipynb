{
 "cells": [
  {
   "cell_type": "markdown",
   "id": "31e33b43",
   "metadata": {},
   "source": [
    "<p style=\"text-align: center; font-size: 28px;\"><b>Cancer Classifier</b></p>\n",
    "\n",
    "In this project, we’ll use Python libraries to build a K-Nearest Neighbors classifier that can predict if a patient is diagnosed with breast cancer."
   ]
  },
  {
   "cell_type": "markdown",
   "id": "f45a8c84",
   "metadata": {},
   "source": [
    "# Explore the data"
   ]
  },
  {
   "cell_type": "markdown",
   "id": "a0d9fcfb",
   "metadata": {},
   "source": [
    "<span style=\"font-size:18px; font-weight:bold;\">Task 1</span>  \n",
    "\n",
    "Start by bringing in the breast cancer dataset from `sklearn`.  \n",
    "Use the `load_breast_cancer` function from `sklearn.datasets`.  \n",
    "\n",
    "After importing, assign the dataset to a variable named `breast_cancer_data` by calling:  \n",
    "\n",
    "```python\n",
    "breast_cancer_data = load_breast_cancer()"
   ]
  },
  {
   "cell_type": "code",
   "execution_count": 1,
   "id": "d9f50dcd",
   "metadata": {},
   "outputs": [],
   "source": [
    "from sklearn.datasets import load_breast_cancer"
   ]
  },
  {
   "cell_type": "code",
   "execution_count": 2,
   "id": "b1636acb",
   "metadata": {},
   "outputs": [],
   "source": [
    "breast_cancer_data = load_breast_cancer()"
   ]
  },
  {
   "cell_type": "markdown",
   "id": "c91e87a9",
   "metadata": {},
   "source": [
    "<span style=\"font-size:18px; font-weight:bold;\">Task 2</span>  \n",
    "\n",
    "Before creating the classifier, start by exploring the dataset.  \n",
    "\n",
    "Print the first datapoint with `breast_cancer_data.data[0]`.  \n",
    "\n",
    "To see what each value represents, also print the feature names using `breast_cancer_data.feature_names`."
   ]
  },
  {
   "cell_type": "code",
   "execution_count": 4,
   "id": "22540719",
   "metadata": {},
   "outputs": [
    {
     "data": {
      "text/plain": [
       "array([1.799e+01, 1.038e+01, 1.228e+02, 1.001e+03, 1.184e-01, 2.776e-01,\n",
       "       3.001e-01, 1.471e-01, 2.419e-01, 7.871e-02, 1.095e+00, 9.053e-01,\n",
       "       8.589e+00, 1.534e+02, 6.399e-03, 4.904e-02, 5.373e-02, 1.587e-02,\n",
       "       3.003e-02, 6.193e-03, 2.538e+01, 1.733e+01, 1.846e+02, 2.019e+03,\n",
       "       1.622e-01, 6.656e-01, 7.119e-01, 2.654e-01, 4.601e-01, 1.189e-01])"
      ]
     },
     "execution_count": 4,
     "metadata": {},
     "output_type": "execute_result"
    }
   ],
   "source": [
    "breast_cancer_data.data[0]"
   ]
  },
  {
   "cell_type": "code",
   "execution_count": 16,
   "id": "e35d9f0d",
   "metadata": {},
   "outputs": [
    {
     "name": "stdout",
     "output_type": "stream",
     "text": [
      "In total there are 569 observations.\n"
     ]
    }
   ],
   "source": [
    "print(\"In total there are \" + str(len(breast_cancer_data.data)) + \" observations.\")"
   ]
  },
  {
   "cell_type": "code",
   "execution_count": 8,
   "id": "4dd90aa0",
   "metadata": {},
   "outputs": [
    {
     "data": {
      "text/plain": [
       "array(['mean radius', 'mean texture', 'mean perimeter', 'mean area',\n",
       "       'mean smoothness', 'mean compactness', 'mean concavity',\n",
       "       'mean concave points', 'mean symmetry', 'mean fractal dimension',\n",
       "       'radius error', 'texture error', 'perimeter error', 'area error',\n",
       "       'smoothness error', 'compactness error', 'concavity error',\n",
       "       'concave points error', 'symmetry error',\n",
       "       'fractal dimension error', 'worst radius', 'worst texture',\n",
       "       'worst perimeter', 'worst area', 'worst smoothness',\n",
       "       'worst compactness', 'worst concavity', 'worst concave points',\n",
       "       'worst symmetry', 'worst fractal dimension'], dtype='<U23')"
      ]
     },
     "execution_count": 8,
     "metadata": {},
     "output_type": "execute_result"
    }
   ],
   "source": [
    "breast_cancer_data.feature_names"
   ]
  },
  {
   "cell_type": "code",
   "execution_count": 11,
   "id": "df7955cf",
   "metadata": {},
   "outputs": [
    {
     "name": "stdout",
     "output_type": "stream",
     "text": [
      "In total there are 30 features.\n"
     ]
    }
   ],
   "source": [
    "print(\"In total there are \" +  str(len(breast_cancer_data.feature_names)) + \" features.\")"
   ]
  },
  {
   "cell_type": "markdown",
   "id": "ac2aad22",
   "metadata": {},
   "source": [
    "<span style=\"font-size:18px; font-weight:bold;\">Task 3</span>  \n",
    "\n",
    "Now that we’ve seen the structure of the data, let’s look at what we want to classify.  \n",
    "\n",
    "Print both `breast_cancer_data.target` and `breast_cancer_data.target_names`.  \n",
    "\n",
    "Check whether the very first datapoint is labeled as malignant or benign.  \n"
   ]
  },
  {
   "cell_type": "code",
   "execution_count": 12,
   "id": "0bc25dbc",
   "metadata": {},
   "outputs": [
    {
     "data": {
      "text/plain": [
       "array([0, 0, 0, 0, 0, 0, 0, 0, 0, 0, 0, 0, 0, 0, 0, 0, 0, 0, 0, 1, 1, 1,\n",
       "       0, 0, 0, 0, 0, 0, 0, 0, 0, 0, 0, 0, 0, 0, 0, 1, 0, 0, 0, 0, 0, 0,\n",
       "       0, 0, 1, 0, 1, 1, 1, 1, 1, 0, 0, 1, 0, 0, 1, 1, 1, 1, 0, 1, 0, 0,\n",
       "       1, 1, 1, 1, 0, 1, 0, 0, 1, 0, 1, 0, 0, 1, 1, 1, 0, 0, 1, 0, 0, 0,\n",
       "       1, 1, 1, 0, 1, 1, 0, 0, 1, 1, 1, 0, 0, 1, 1, 1, 1, 0, 1, 1, 0, 1,\n",
       "       1, 1, 1, 1, 1, 1, 1, 0, 0, 0, 1, 0, 0, 1, 1, 1, 0, 0, 1, 0, 1, 0,\n",
       "       0, 1, 0, 0, 1, 1, 0, 1, 1, 0, 1, 1, 1, 1, 0, 1, 1, 1, 1, 1, 1, 1,\n",
       "       1, 1, 0, 1, 1, 1, 1, 0, 0, 1, 0, 1, 1, 0, 0, 1, 1, 0, 0, 1, 1, 1,\n",
       "       1, 0, 1, 1, 0, 0, 0, 1, 0, 1, 0, 1, 1, 1, 0, 1, 1, 0, 0, 1, 0, 0,\n",
       "       0, 0, 1, 0, 0, 0, 1, 0, 1, 0, 1, 1, 0, 1, 0, 0, 0, 0, 1, 1, 0, 0,\n",
       "       1, 1, 1, 0, 1, 1, 1, 1, 1, 0, 0, 1, 1, 0, 1, 1, 0, 0, 1, 0, 1, 1,\n",
       "       1, 1, 0, 1, 1, 1, 1, 1, 0, 1, 0, 0, 0, 0, 0, 0, 0, 0, 0, 0, 0, 0,\n",
       "       0, 0, 1, 1, 1, 1, 1, 1, 0, 1, 0, 1, 1, 0, 1, 1, 0, 1, 0, 0, 1, 1,\n",
       "       1, 1, 1, 1, 1, 1, 1, 1, 1, 1, 1, 0, 1, 1, 0, 1, 0, 1, 1, 1, 1, 1,\n",
       "       1, 1, 1, 1, 1, 1, 1, 1, 1, 0, 1, 1, 1, 0, 1, 0, 1, 1, 1, 1, 0, 0,\n",
       "       0, 1, 1, 1, 1, 0, 1, 0, 1, 0, 1, 1, 1, 0, 1, 1, 1, 1, 1, 1, 1, 0,\n",
       "       0, 0, 1, 1, 1, 1, 1, 1, 1, 1, 1, 1, 1, 0, 0, 1, 0, 0, 0, 1, 0, 0,\n",
       "       1, 1, 1, 1, 1, 0, 1, 1, 1, 1, 1, 0, 1, 1, 1, 0, 1, 1, 0, 0, 1, 1,\n",
       "       1, 1, 1, 1, 0, 1, 1, 1, 1, 1, 1, 1, 0, 1, 1, 1, 1, 1, 0, 1, 1, 0,\n",
       "       1, 1, 1, 1, 1, 1, 1, 1, 1, 1, 1, 1, 0, 1, 0, 0, 1, 0, 1, 1, 1, 1,\n",
       "       1, 0, 1, 1, 0, 1, 0, 1, 1, 0, 1, 0, 1, 1, 1, 1, 1, 1, 1, 1, 0, 0,\n",
       "       1, 1, 1, 1, 1, 1, 0, 1, 1, 1, 1, 1, 1, 1, 1, 1, 1, 0, 1, 1, 1, 1,\n",
       "       1, 1, 1, 0, 1, 0, 1, 1, 0, 1, 1, 1, 1, 1, 0, 0, 1, 0, 1, 0, 1, 1,\n",
       "       1, 1, 1, 0, 1, 1, 0, 1, 0, 1, 0, 0, 1, 1, 1, 0, 1, 1, 1, 1, 1, 1,\n",
       "       1, 1, 1, 1, 1, 0, 1, 0, 0, 1, 1, 1, 1, 1, 1, 1, 1, 1, 1, 1, 1, 1,\n",
       "       1, 1, 1, 1, 1, 1, 1, 1, 1, 1, 1, 1, 0, 0, 0, 0, 0, 0, 1])"
      ]
     },
     "execution_count": 12,
     "metadata": {},
     "output_type": "execute_result"
    }
   ],
   "source": [
    "breast_cancer_data.target"
   ]
  },
  {
   "cell_type": "code",
   "execution_count": 15,
   "id": "95342d58",
   "metadata": {},
   "outputs": [
    {
     "data": {
      "text/plain": [
       "569"
      ]
     },
     "execution_count": 15,
     "metadata": {},
     "output_type": "execute_result"
    }
   ],
   "source": [
    "len(breast_cancer_data.target)"
   ]
  },
  {
   "cell_type": "code",
   "execution_count": 13,
   "id": "70dd209c",
   "metadata": {},
   "outputs": [
    {
     "data": {
      "text/plain": [
       "array(['malignant', 'benign'], dtype='<U9')"
      ]
     },
     "execution_count": 13,
     "metadata": {},
     "output_type": "execute_result"
    }
   ],
   "source": [
    "breast_cancer_data.target_names"
   ]
  },
  {
   "cell_type": "markdown",
   "id": "bd7b7db2",
   "metadata": {},
   "source": [
    "# Splitting the data into Training and Validation Sets"
   ]
  },
  {
   "cell_type": "markdown",
   "id": "da9f976e",
   "metadata": {},
   "source": [
    "<span style=\"font-size:18px; font-weight:bold;\">Task 4</span>  \n",
    "\n",
    "We have the dataset ready, but it needs to be divided into training and validation sets.  \n",
    "\n",
    "Use the `train_test_split` function from `sklearn.model_selection` to perform this split.  "
   ]
  },
  {
   "cell_type": "code",
   "execution_count": 17,
   "id": "35e4e890",
   "metadata": {},
   "outputs": [],
   "source": [
    "from sklearn.model_selection import train_test_split"
   ]
  },
  {
   "cell_type": "markdown",
   "id": "98be1f57",
   "metadata": {},
   "source": [
    "<span style=\"font-size:18px; font-weight:bold;\">Task 5</span>  \n",
    "\n",
    "Call the `train_test_split` function with the following parameters:  \n",
    "\n",
    "- The dataset to split: `breast_cancer_data.data`  \n",
    "- The labels: `breast_cancer_data.target`  \n",
    "- `test_size = 0.2` to allocate 20% of the data for testing  \n",
    "- `random_state = 100` to make the split reproducible  \n"
   ]
  },
  {
   "cell_type": "code",
   "execution_count": 18,
   "id": "f29382fe",
   "metadata": {},
   "outputs": [],
   "source": [
    "X_train, y_train, X_test, y_test = train_test_split(breast_cancer_data.data, breast_cancer_data.target, test_size = 0.2, random_state = 100)"
   ]
  },
  {
   "cell_type": "markdown",
   "id": "0a181896",
   "metadata": {},
   "source": [
    "<span style=\"font-size:18px; font-weight:bold;\">Task 6</span>  \n",
    "\n",
    "The `train_test_split` function returns four outputs in this order:  \n",
    "\n",
    "1. The training set  \n",
    "2. The validation set  \n",
    "3. The training labels  \n",
    "4. The validation labels  \n",
    "\n",
    "Store these results in variables named:  \n",
    "- `training_data`  \n",
    "- `validation_data`  \n",
    "- `training_labels`  \n",
    "- `validation_labels`  \n"
   ]
  },
  {
   "cell_type": "code",
   "execution_count": 19,
   "id": "5a62c2b0",
   "metadata": {},
   "outputs": [],
   "source": [
    "training_data, validation_data, training_labels, validation_labels = train_test_split(breast_cancer_data.data, breast_cancer_data.target, test_size = 0.2, random_state = 100)"
   ]
  },
  {
   "cell_type": "markdown",
   "id": "c8ddadf9",
   "metadata": {},
   "source": [
    "<span style=\"font-size:18px; font-weight:bold;\">Task 7</span>  \n",
    "\n",
    "Verify the split by printing the length of `training_data` and `training_labels`.  \n",
    "Both should have the same size, ensuring that every datapoint has a corresponding label.  "
   ]
  },
  {
   "cell_type": "code",
   "execution_count": 21,
   "id": "b89dfac3",
   "metadata": {},
   "outputs": [
    {
     "name": "stdout",
     "output_type": "stream",
     "text": [
      "Training_data and training_labels are the same lenght: True\n"
     ]
    }
   ],
   "source": [
    "print(\"Training_data and training_labels are the same lenght:\", len(training_data) == len(training_labels))"
   ]
  },
  {
   "cell_type": "code",
   "execution_count": 22,
   "id": "25d243fd",
   "metadata": {},
   "outputs": [
    {
     "name": "stdout",
     "output_type": "stream",
     "text": [
      "validation_data and validation_labels are the same lenght: True\n"
     ]
    }
   ],
   "source": [
    "print(\"validation_data and validation_labels are the same lenght:\", len(validation_data) == len(validation_labels))"
   ]
  },
  {
   "cell_type": "markdown",
   "id": "0400352c",
   "metadata": {},
   "source": [
    "# Running the classifier"
   ]
  },
  {
   "cell_type": "markdown",
   "id": "45e57a5f",
   "metadata": {},
   "source": [
    "<span style=\"font-size:18px; font-weight:bold;\">Task 8</span>  \n",
    "\n",
    "With the training and validation sets ready, the next step is to create a K-Nearest Neighbors classifier.  \n",
    "\n",
    "Start by importing `KNeighborsClassifier` from `sklearn.neighbors`.  "
   ]
  },
  {
   "cell_type": "code",
   "execution_count": 23,
   "id": "001a61a4",
   "metadata": {},
   "outputs": [],
   "source": [
    "from sklearn.neighbors import KNeighborsClassifier"
   ]
  },
  {
   "cell_type": "markdown",
   "id": "4a6af410",
   "metadata": {},
   "source": [
    "<span style=\"font-size:18px; font-weight:bold;\">Task 9</span>  \n",
    "\n",
    "Create a `KNeighborsClassifier` with `n_neighbors = 3`.  \n",
    "Assign this classifier to a variable named `classifier`.  \n"
   ]
  },
  {
   "cell_type": "code",
   "execution_count": 24,
   "id": "6622aeae",
   "metadata": {},
   "outputs": [],
   "source": [
    "classifier = KNeighborsClassifier(n_neighbors = 3)"
   ]
  },
  {
   "cell_type": "markdown",
   "id": "a0420479",
   "metadata": {},
   "source": [
    "<span style=\"font-size:18px; font-weight:bold;\">Task 10</span>  \n",
    "\n",
    "Train the classifier by calling the `fit` function.  \n",
    "Pass in two arguments:  \n",
    "- The training set (`training_data`)  \n",
    "- The training labels (`training_labels`)  "
   ]
  },
  {
   "cell_type": "code",
   "execution_count": 27,
   "id": "cc5972ff",
   "metadata": {},
   "outputs": [
    {
     "data": {
      "text/html": [
       "<style>#sk-container-id-1 {\n",
       "  /* Definition of color scheme common for light and dark mode */\n",
       "  --sklearn-color-text: #000;\n",
       "  --sklearn-color-text-muted: #666;\n",
       "  --sklearn-color-line: gray;\n",
       "  /* Definition of color scheme for unfitted estimators */\n",
       "  --sklearn-color-unfitted-level-0: #fff5e6;\n",
       "  --sklearn-color-unfitted-level-1: #f6e4d2;\n",
       "  --sklearn-color-unfitted-level-2: #ffe0b3;\n",
       "  --sklearn-color-unfitted-level-3: chocolate;\n",
       "  /* Definition of color scheme for fitted estimators */\n",
       "  --sklearn-color-fitted-level-0: #f0f8ff;\n",
       "  --sklearn-color-fitted-level-1: #d4ebff;\n",
       "  --sklearn-color-fitted-level-2: #b3dbfd;\n",
       "  --sklearn-color-fitted-level-3: cornflowerblue;\n",
       "\n",
       "  /* Specific color for light theme */\n",
       "  --sklearn-color-text-on-default-background: var(--sg-text-color, var(--theme-code-foreground, var(--jp-content-font-color1, black)));\n",
       "  --sklearn-color-background: var(--sg-background-color, var(--theme-background, var(--jp-layout-color0, white)));\n",
       "  --sklearn-color-border-box: var(--sg-text-color, var(--theme-code-foreground, var(--jp-content-font-color1, black)));\n",
       "  --sklearn-color-icon: #696969;\n",
       "\n",
       "  @media (prefers-color-scheme: dark) {\n",
       "    /* Redefinition of color scheme for dark theme */\n",
       "    --sklearn-color-text-on-default-background: var(--sg-text-color, var(--theme-code-foreground, var(--jp-content-font-color1, white)));\n",
       "    --sklearn-color-background: var(--sg-background-color, var(--theme-background, var(--jp-layout-color0, #111)));\n",
       "    --sklearn-color-border-box: var(--sg-text-color, var(--theme-code-foreground, var(--jp-content-font-color1, white)));\n",
       "    --sklearn-color-icon: #878787;\n",
       "  }\n",
       "}\n",
       "\n",
       "#sk-container-id-1 {\n",
       "  color: var(--sklearn-color-text);\n",
       "}\n",
       "\n",
       "#sk-container-id-1 pre {\n",
       "  padding: 0;\n",
       "}\n",
       "\n",
       "#sk-container-id-1 input.sk-hidden--visually {\n",
       "  border: 0;\n",
       "  clip: rect(1px 1px 1px 1px);\n",
       "  clip: rect(1px, 1px, 1px, 1px);\n",
       "  height: 1px;\n",
       "  margin: -1px;\n",
       "  overflow: hidden;\n",
       "  padding: 0;\n",
       "  position: absolute;\n",
       "  width: 1px;\n",
       "}\n",
       "\n",
       "#sk-container-id-1 div.sk-dashed-wrapped {\n",
       "  border: 1px dashed var(--sklearn-color-line);\n",
       "  margin: 0 0.4em 0.5em 0.4em;\n",
       "  box-sizing: border-box;\n",
       "  padding-bottom: 0.4em;\n",
       "  background-color: var(--sklearn-color-background);\n",
       "}\n",
       "\n",
       "#sk-container-id-1 div.sk-container {\n",
       "  /* jupyter's `normalize.less` sets `[hidden] { display: none; }`\n",
       "     but bootstrap.min.css set `[hidden] { display: none !important; }`\n",
       "     so we also need the `!important` here to be able to override the\n",
       "     default hidden behavior on the sphinx rendered scikit-learn.org.\n",
       "     See: https://github.com/scikit-learn/scikit-learn/issues/21755 */\n",
       "  display: inline-block !important;\n",
       "  position: relative;\n",
       "}\n",
       "\n",
       "#sk-container-id-1 div.sk-text-repr-fallback {\n",
       "  display: none;\n",
       "}\n",
       "\n",
       "div.sk-parallel-item,\n",
       "div.sk-serial,\n",
       "div.sk-item {\n",
       "  /* draw centered vertical line to link estimators */\n",
       "  background-image: linear-gradient(var(--sklearn-color-text-on-default-background), var(--sklearn-color-text-on-default-background));\n",
       "  background-size: 2px 100%;\n",
       "  background-repeat: no-repeat;\n",
       "  background-position: center center;\n",
       "}\n",
       "\n",
       "/* Parallel-specific style estimator block */\n",
       "\n",
       "#sk-container-id-1 div.sk-parallel-item::after {\n",
       "  content: \"\";\n",
       "  width: 100%;\n",
       "  border-bottom: 2px solid var(--sklearn-color-text-on-default-background);\n",
       "  flex-grow: 1;\n",
       "}\n",
       "\n",
       "#sk-container-id-1 div.sk-parallel {\n",
       "  display: flex;\n",
       "  align-items: stretch;\n",
       "  justify-content: center;\n",
       "  background-color: var(--sklearn-color-background);\n",
       "  position: relative;\n",
       "}\n",
       "\n",
       "#sk-container-id-1 div.sk-parallel-item {\n",
       "  display: flex;\n",
       "  flex-direction: column;\n",
       "}\n",
       "\n",
       "#sk-container-id-1 div.sk-parallel-item:first-child::after {\n",
       "  align-self: flex-end;\n",
       "  width: 50%;\n",
       "}\n",
       "\n",
       "#sk-container-id-1 div.sk-parallel-item:last-child::after {\n",
       "  align-self: flex-start;\n",
       "  width: 50%;\n",
       "}\n",
       "\n",
       "#sk-container-id-1 div.sk-parallel-item:only-child::after {\n",
       "  width: 0;\n",
       "}\n",
       "\n",
       "/* Serial-specific style estimator block */\n",
       "\n",
       "#sk-container-id-1 div.sk-serial {\n",
       "  display: flex;\n",
       "  flex-direction: column;\n",
       "  align-items: center;\n",
       "  background-color: var(--sklearn-color-background);\n",
       "  padding-right: 1em;\n",
       "  padding-left: 1em;\n",
       "}\n",
       "\n",
       "\n",
       "/* Toggleable style: style used for estimator/Pipeline/ColumnTransformer box that is\n",
       "clickable and can be expanded/collapsed.\n",
       "- Pipeline and ColumnTransformer use this feature and define the default style\n",
       "- Estimators will overwrite some part of the style using the `sk-estimator` class\n",
       "*/\n",
       "\n",
       "/* Pipeline and ColumnTransformer style (default) */\n",
       "\n",
       "#sk-container-id-1 div.sk-toggleable {\n",
       "  /* Default theme specific background. It is overwritten whether we have a\n",
       "  specific estimator or a Pipeline/ColumnTransformer */\n",
       "  background-color: var(--sklearn-color-background);\n",
       "}\n",
       "\n",
       "/* Toggleable label */\n",
       "#sk-container-id-1 label.sk-toggleable__label {\n",
       "  cursor: pointer;\n",
       "  display: flex;\n",
       "  width: 100%;\n",
       "  margin-bottom: 0;\n",
       "  padding: 0.5em;\n",
       "  box-sizing: border-box;\n",
       "  text-align: center;\n",
       "  align-items: start;\n",
       "  justify-content: space-between;\n",
       "  gap: 0.5em;\n",
       "}\n",
       "\n",
       "#sk-container-id-1 label.sk-toggleable__label .caption {\n",
       "  font-size: 0.6rem;\n",
       "  font-weight: lighter;\n",
       "  color: var(--sklearn-color-text-muted);\n",
       "}\n",
       "\n",
       "#sk-container-id-1 label.sk-toggleable__label-arrow:before {\n",
       "  /* Arrow on the left of the label */\n",
       "  content: \"▸\";\n",
       "  float: left;\n",
       "  margin-right: 0.25em;\n",
       "  color: var(--sklearn-color-icon);\n",
       "}\n",
       "\n",
       "#sk-container-id-1 label.sk-toggleable__label-arrow:hover:before {\n",
       "  color: var(--sklearn-color-text);\n",
       "}\n",
       "\n",
       "/* Toggleable content - dropdown */\n",
       "\n",
       "#sk-container-id-1 div.sk-toggleable__content {\n",
       "  max-height: 0;\n",
       "  max-width: 0;\n",
       "  overflow: hidden;\n",
       "  text-align: left;\n",
       "  /* unfitted */\n",
       "  background-color: var(--sklearn-color-unfitted-level-0);\n",
       "}\n",
       "\n",
       "#sk-container-id-1 div.sk-toggleable__content.fitted {\n",
       "  /* fitted */\n",
       "  background-color: var(--sklearn-color-fitted-level-0);\n",
       "}\n",
       "\n",
       "#sk-container-id-1 div.sk-toggleable__content pre {\n",
       "  margin: 0.2em;\n",
       "  border-radius: 0.25em;\n",
       "  color: var(--sklearn-color-text);\n",
       "  /* unfitted */\n",
       "  background-color: var(--sklearn-color-unfitted-level-0);\n",
       "}\n",
       "\n",
       "#sk-container-id-1 div.sk-toggleable__content.fitted pre {\n",
       "  /* unfitted */\n",
       "  background-color: var(--sklearn-color-fitted-level-0);\n",
       "}\n",
       "\n",
       "#sk-container-id-1 input.sk-toggleable__control:checked~div.sk-toggleable__content {\n",
       "  /* Expand drop-down */\n",
       "  max-height: 200px;\n",
       "  max-width: 100%;\n",
       "  overflow: auto;\n",
       "}\n",
       "\n",
       "#sk-container-id-1 input.sk-toggleable__control:checked~label.sk-toggleable__label-arrow:before {\n",
       "  content: \"▾\";\n",
       "}\n",
       "\n",
       "/* Pipeline/ColumnTransformer-specific style */\n",
       "\n",
       "#sk-container-id-1 div.sk-label input.sk-toggleable__control:checked~label.sk-toggleable__label {\n",
       "  color: var(--sklearn-color-text);\n",
       "  background-color: var(--sklearn-color-unfitted-level-2);\n",
       "}\n",
       "\n",
       "#sk-container-id-1 div.sk-label.fitted input.sk-toggleable__control:checked~label.sk-toggleable__label {\n",
       "  background-color: var(--sklearn-color-fitted-level-2);\n",
       "}\n",
       "\n",
       "/* Estimator-specific style */\n",
       "\n",
       "/* Colorize estimator box */\n",
       "#sk-container-id-1 div.sk-estimator input.sk-toggleable__control:checked~label.sk-toggleable__label {\n",
       "  /* unfitted */\n",
       "  background-color: var(--sklearn-color-unfitted-level-2);\n",
       "}\n",
       "\n",
       "#sk-container-id-1 div.sk-estimator.fitted input.sk-toggleable__control:checked~label.sk-toggleable__label {\n",
       "  /* fitted */\n",
       "  background-color: var(--sklearn-color-fitted-level-2);\n",
       "}\n",
       "\n",
       "#sk-container-id-1 div.sk-label label.sk-toggleable__label,\n",
       "#sk-container-id-1 div.sk-label label {\n",
       "  /* The background is the default theme color */\n",
       "  color: var(--sklearn-color-text-on-default-background);\n",
       "}\n",
       "\n",
       "/* On hover, darken the color of the background */\n",
       "#sk-container-id-1 div.sk-label:hover label.sk-toggleable__label {\n",
       "  color: var(--sklearn-color-text);\n",
       "  background-color: var(--sklearn-color-unfitted-level-2);\n",
       "}\n",
       "\n",
       "/* Label box, darken color on hover, fitted */\n",
       "#sk-container-id-1 div.sk-label.fitted:hover label.sk-toggleable__label.fitted {\n",
       "  color: var(--sklearn-color-text);\n",
       "  background-color: var(--sklearn-color-fitted-level-2);\n",
       "}\n",
       "\n",
       "/* Estimator label */\n",
       "\n",
       "#sk-container-id-1 div.sk-label label {\n",
       "  font-family: monospace;\n",
       "  font-weight: bold;\n",
       "  display: inline-block;\n",
       "  line-height: 1.2em;\n",
       "}\n",
       "\n",
       "#sk-container-id-1 div.sk-label-container {\n",
       "  text-align: center;\n",
       "}\n",
       "\n",
       "/* Estimator-specific */\n",
       "#sk-container-id-1 div.sk-estimator {\n",
       "  font-family: monospace;\n",
       "  border: 1px dotted var(--sklearn-color-border-box);\n",
       "  border-radius: 0.25em;\n",
       "  box-sizing: border-box;\n",
       "  margin-bottom: 0.5em;\n",
       "  /* unfitted */\n",
       "  background-color: var(--sklearn-color-unfitted-level-0);\n",
       "}\n",
       "\n",
       "#sk-container-id-1 div.sk-estimator.fitted {\n",
       "  /* fitted */\n",
       "  background-color: var(--sklearn-color-fitted-level-0);\n",
       "}\n",
       "\n",
       "/* on hover */\n",
       "#sk-container-id-1 div.sk-estimator:hover {\n",
       "  /* unfitted */\n",
       "  background-color: var(--sklearn-color-unfitted-level-2);\n",
       "}\n",
       "\n",
       "#sk-container-id-1 div.sk-estimator.fitted:hover {\n",
       "  /* fitted */\n",
       "  background-color: var(--sklearn-color-fitted-level-2);\n",
       "}\n",
       "\n",
       "/* Specification for estimator info (e.g. \"i\" and \"?\") */\n",
       "\n",
       "/* Common style for \"i\" and \"?\" */\n",
       "\n",
       ".sk-estimator-doc-link,\n",
       "a:link.sk-estimator-doc-link,\n",
       "a:visited.sk-estimator-doc-link {\n",
       "  float: right;\n",
       "  font-size: smaller;\n",
       "  line-height: 1em;\n",
       "  font-family: monospace;\n",
       "  background-color: var(--sklearn-color-background);\n",
       "  border-radius: 1em;\n",
       "  height: 1em;\n",
       "  width: 1em;\n",
       "  text-decoration: none !important;\n",
       "  margin-left: 0.5em;\n",
       "  text-align: center;\n",
       "  /* unfitted */\n",
       "  border: var(--sklearn-color-unfitted-level-1) 1pt solid;\n",
       "  color: var(--sklearn-color-unfitted-level-1);\n",
       "}\n",
       "\n",
       ".sk-estimator-doc-link.fitted,\n",
       "a:link.sk-estimator-doc-link.fitted,\n",
       "a:visited.sk-estimator-doc-link.fitted {\n",
       "  /* fitted */\n",
       "  border: var(--sklearn-color-fitted-level-1) 1pt solid;\n",
       "  color: var(--sklearn-color-fitted-level-1);\n",
       "}\n",
       "\n",
       "/* On hover */\n",
       "div.sk-estimator:hover .sk-estimator-doc-link:hover,\n",
       ".sk-estimator-doc-link:hover,\n",
       "div.sk-label-container:hover .sk-estimator-doc-link:hover,\n",
       ".sk-estimator-doc-link:hover {\n",
       "  /* unfitted */\n",
       "  background-color: var(--sklearn-color-unfitted-level-3);\n",
       "  color: var(--sklearn-color-background);\n",
       "  text-decoration: none;\n",
       "}\n",
       "\n",
       "div.sk-estimator.fitted:hover .sk-estimator-doc-link.fitted:hover,\n",
       ".sk-estimator-doc-link.fitted:hover,\n",
       "div.sk-label-container:hover .sk-estimator-doc-link.fitted:hover,\n",
       ".sk-estimator-doc-link.fitted:hover {\n",
       "  /* fitted */\n",
       "  background-color: var(--sklearn-color-fitted-level-3);\n",
       "  color: var(--sklearn-color-background);\n",
       "  text-decoration: none;\n",
       "}\n",
       "\n",
       "/* Span, style for the box shown on hovering the info icon */\n",
       ".sk-estimator-doc-link span {\n",
       "  display: none;\n",
       "  z-index: 9999;\n",
       "  position: relative;\n",
       "  font-weight: normal;\n",
       "  right: .2ex;\n",
       "  padding: .5ex;\n",
       "  margin: .5ex;\n",
       "  width: min-content;\n",
       "  min-width: 20ex;\n",
       "  max-width: 50ex;\n",
       "  color: var(--sklearn-color-text);\n",
       "  box-shadow: 2pt 2pt 4pt #999;\n",
       "  /* unfitted */\n",
       "  background: var(--sklearn-color-unfitted-level-0);\n",
       "  border: .5pt solid var(--sklearn-color-unfitted-level-3);\n",
       "}\n",
       "\n",
       ".sk-estimator-doc-link.fitted span {\n",
       "  /* fitted */\n",
       "  background: var(--sklearn-color-fitted-level-0);\n",
       "  border: var(--sklearn-color-fitted-level-3);\n",
       "}\n",
       "\n",
       ".sk-estimator-doc-link:hover span {\n",
       "  display: block;\n",
       "}\n",
       "\n",
       "/* \"?\"-specific style due to the `<a>` HTML tag */\n",
       "\n",
       "#sk-container-id-1 a.estimator_doc_link {\n",
       "  float: right;\n",
       "  font-size: 1rem;\n",
       "  line-height: 1em;\n",
       "  font-family: monospace;\n",
       "  background-color: var(--sklearn-color-background);\n",
       "  border-radius: 1rem;\n",
       "  height: 1rem;\n",
       "  width: 1rem;\n",
       "  text-decoration: none;\n",
       "  /* unfitted */\n",
       "  color: var(--sklearn-color-unfitted-level-1);\n",
       "  border: var(--sklearn-color-unfitted-level-1) 1pt solid;\n",
       "}\n",
       "\n",
       "#sk-container-id-1 a.estimator_doc_link.fitted {\n",
       "  /* fitted */\n",
       "  border: var(--sklearn-color-fitted-level-1) 1pt solid;\n",
       "  color: var(--sklearn-color-fitted-level-1);\n",
       "}\n",
       "\n",
       "/* On hover */\n",
       "#sk-container-id-1 a.estimator_doc_link:hover {\n",
       "  /* unfitted */\n",
       "  background-color: var(--sklearn-color-unfitted-level-3);\n",
       "  color: var(--sklearn-color-background);\n",
       "  text-decoration: none;\n",
       "}\n",
       "\n",
       "#sk-container-id-1 a.estimator_doc_link.fitted:hover {\n",
       "  /* fitted */\n",
       "  background-color: var(--sklearn-color-fitted-level-3);\n",
       "}\n",
       "</style><div id=\"sk-container-id-1\" class=\"sk-top-container\"><div class=\"sk-text-repr-fallback\"><pre>KNeighborsClassifier(n_neighbors=3)</pre><b>In a Jupyter environment, please rerun this cell to show the HTML representation or trust the notebook. <br />On GitHub, the HTML representation is unable to render, please try loading this page with nbviewer.org.</b></div><div class=\"sk-container\" hidden><div class=\"sk-item\"><div class=\"sk-estimator fitted sk-toggleable\"><input class=\"sk-toggleable__control sk-hidden--visually\" id=\"sk-estimator-id-1\" type=\"checkbox\" checked><label for=\"sk-estimator-id-1\" class=\"sk-toggleable__label fitted sk-toggleable__label-arrow\"><div><div>KNeighborsClassifier</div></div><div><a class=\"sk-estimator-doc-link fitted\" rel=\"noreferrer\" target=\"_blank\" href=\"https://scikit-learn.org/1.6/modules/generated/sklearn.neighbors.KNeighborsClassifier.html\">?<span>Documentation for KNeighborsClassifier</span></a><span class=\"sk-estimator-doc-link fitted\">i<span>Fitted</span></span></div></label><div class=\"sk-toggleable__content fitted\"><pre>KNeighborsClassifier(n_neighbors=3)</pre></div> </div></div></div></div>"
      ],
      "text/plain": [
       "KNeighborsClassifier(n_neighbors=3)"
      ]
     },
     "execution_count": 27,
     "metadata": {},
     "output_type": "execute_result"
    }
   ],
   "source": [
    "classifier.fit(training_data, training_labels)"
   ]
  },
  {
   "cell_type": "markdown",
   "id": "b1c94a48",
   "metadata": {},
   "source": [
    "<span style=\"font-size:18px; font-weight:bold;\">Task 11</span>  \n",
    "\n",
    "Evaluate the classifier’s accuracy using the `score` function.  \n",
    "Provide the following as parameters:  \n",
    "- The validation set (`validation_data`)  \n",
    "- The validation labels (`validation_labels`)  \n",
    "\n",
    "Print the result to see the accuracy score.  "
   ]
  },
  {
   "cell_type": "code",
   "execution_count": 29,
   "id": "a2c5e52f",
   "metadata": {},
   "outputs": [
    {
     "name": "stdout",
     "output_type": "stream",
     "text": [
      "Accuracy score for the classifier: 0.9473684210526315\n"
     ]
    }
   ],
   "source": [
    "print(\"Accuracy score for the classifier: \" + str(classifier.score(validation_data, validation_labels)))"
   ]
  },
  {
   "cell_type": "markdown",
   "id": "bbaea389",
   "metadata": {},
   "source": [
    "<span style=\"font-size:18px; font-weight:bold;\">Task 12</span>  \n",
    "\n",
    "Test different values of **k** to see which gives the best accuracy.  \n",
    "\n",
    "- Place the previous three lines of code inside a `for` loop.  \n",
    "- Use a loop variable `k` that ranges from 1 to 100.  \n",
    "- Set `n_neighbors = k` instead of a fixed value.  \n",
    "- Print the validation accuracy for each value of `k`.  \n",
    "\n",
    "This will output 100 different accuracy scores, one for each value of **k**, allowing you to compare performance.  "
   ]
  },
  {
   "cell_type": "code",
   "execution_count": 39,
   "id": "67698fe7",
   "metadata": {},
   "outputs": [],
   "source": [
    "score_dict = {}\n",
    "for k in range(1, 101):\n",
    "    classifier = KNeighborsClassifier(n_neighbors = k)\n",
    "    classifier.fit(training_data, training_labels)\n",
    "    score_k = classifier.score(validation_data, validation_labels)\n",
    "    score_dict[k] = score_k"
   ]
  },
  {
   "cell_type": "code",
   "execution_count": 40,
   "id": "42702097",
   "metadata": {},
   "outputs": [
    {
     "name": "stdout",
     "output_type": "stream",
     "text": [
      "Key: 23\n",
      "Value: 0.9649122807017544\n"
     ]
    }
   ],
   "source": [
    "max_key = max(score_dict, key=score_dict.get)\n",
    "\n",
    "# value itself\n",
    "max_value = score_dict[max_key]\n",
    "\n",
    "print(\"Key:\", max_key)\n",
    "print(\"Value:\", max_value)"
   ]
  },
  {
   "cell_type": "markdown",
   "id": "590bc2b8",
   "metadata": {},
   "source": [
    "How does max() works?\n",
    "\n",
    "score_dict = {\"Alice\": 82, \"Bob\": 95, \"Charlie\": 78}\n",
    "- max(score_dict, ...) checks the dictionary’s keys by default.\n",
    "- key=score_dict.get → tells Python to look up each key’s value in the dictionary and use that for comparison instead of the key itself.\n",
    "- So instead of comparing \"Alice\", \"Bob\", \"Charlie\" alphabetically, it compares 82, 95, 78.\n",
    "- Result: the key with the highest value."
   ]
  },
  {
   "cell_type": "markdown",
   "id": "2977f289",
   "metadata": {},
   "source": [
    "# Graphing the results"
   ]
  },
  {
   "cell_type": "markdown",
   "id": "198f3b13",
   "metadata": {},
   "source": [
    "<span style=\"font-size:18px; font-weight:bold;\">Task 13</span>  \n",
    "\n",
    "Now that we have validation accuracy for 100 different values of **k**, let’s visualize the results.  \n",
    "\n",
    "Start by importing `matplotlib.pyplot` as `plt`.  \n"
   ]
  },
  {
   "cell_type": "code",
   "execution_count": 41,
   "id": "8c7c9bea",
   "metadata": {},
   "outputs": [],
   "source": [
    "import matplotlib.pyplot as plt"
   ]
  },
  {
   "cell_type": "markdown",
   "id": "3715b22f",
   "metadata": {},
   "source": [
    "<span style=\"font-size:18px; font-weight:bold;\">Task 14</span>  \n",
    "\n",
    "Set up the x-axis to represent the values of **k** tested.  \n",
    "\n",
    "Create a list of numbers from 1 to 100 using the `range` function and store it in a variable named `k_list`.  "
   ]
  },
  {
   "cell_type": "code",
   "execution_count": 42,
   "id": "a8961406",
   "metadata": {},
   "outputs": [],
   "source": [
    "k_list = len(range(1, 101))"
   ]
  },
  {
   "cell_type": "markdown",
   "id": "fc628b23",
   "metadata": {},
   "source": [
    "<span style=\"font-size:18px; font-weight:bold;\">Task 15</span>  \n",
    "\n",
    "The y-axis of the graph will represent the validation accuracies.  \n",
    "\n",
    "- Before the loop, create an empty list named `accuracies`.  \n",
    "- Inside the loop, instead of printing each accuracy, append it to the `accuracies` list.  \n"
   ]
  },
  {
   "cell_type": "code",
   "execution_count": 53,
   "id": "c6ed242c",
   "metadata": {},
   "outputs": [],
   "source": [
    "accuracy_list = list(score_dict.values())"
   ]
  },
  {
   "cell_type": "markdown",
   "id": "f4a3c87b",
   "metadata": {},
   "source": [
    "<span style=\"font-size:18px; font-weight:bold;\">Task 16</span>  \n",
    "\n",
    "Plot the results to visualize accuracy across different values of **k**.  \n",
    "\n",
    "- Call `plt.plot()` with `k_list` as the first parameter and `accuracies` as the second.  \n",
    "- After plotting, display the graph using `plt.show()`.  \n"
   ]
  },
  {
   "cell_type": "code",
   "execution_count": 57,
   "id": "be9d0de2",
   "metadata": {},
   "outputs": [
    {
     "data": {
      "image/png": "[encoded data removed]",
      "text/plain": [
       "<Figure size 640x480 with 1 Axes>"
      ]
     },
     "metadata": {},
     "output_type": "display_data"
    }
   ],
   "source": [
    "plt.plot(k_list, accuracy_list)\n",
    "plt.show()"
   ]
  },
  {
   "cell_type": "markdown",
   "id": "47e3e657",
   "metadata": {},
   "source": [
    "<span style=\"font-size:18px; font-weight:bold;\">Task 17</span>  \n",
    "\n",
    "Enhance the graph by adding descriptive labels and a title:  \n",
    "\n",
    "- Use `plt.xlabel(\"k\")` to label the x-axis.  \n",
    "- Use `plt.ylabel(\"Validation Accuracy\")` to label the y-axis.  \n",
    "- Use `plt.title(\"Breast Cancer Classifier Accuracy\")` to set the graph’s title.  "
   ]
  },
  {
   "cell_type": "code",
   "execution_count": 58,
   "id": "a6cadd9c",
   "metadata": {},
   "outputs": [
    {
     "data": {
      "image/png": "[encoded data removed]",
      "text/plain": [
       "<Figure size 640x480 with 1 Axes>"
      ]
     },
     "metadata": {},
     "output_type": "display_data"
    }
   ],
   "source": [
    "import matplotlib.pyplot as plt\n",
    "\n",
    "# Plot validation accuracy vs. k values\n",
    "plt.plot(k_list, accuracy_list)\n",
    "\n",
    "# Add more details to the plot\n",
    "plt.title(\"Validation Accuracy for Different k Values\")\n",
    "plt.xlabel(\"k (Number of Neighbors)\")\n",
    "plt.ylabel(\"Validation Accuracy\")\n",
    "\n",
    "# Display the graph\n",
    "plt.show()\n"
   ]
  },
  {
   "cell_type": "markdown",
   "id": "46d27e5a",
   "metadata": {},
   "source": [
    "# Conclusions"
   ]
  },
  {
   "cell_type": "markdown",
   "id": "bd447b36",
   "metadata": {},
   "source": [
    "- Logistic regression and K-Nearest Neighbors (KNN) are both useful methods for classification problems, but here we focused on KNN to predict breast cancer diagnosis.  \n",
    "- Splitting the dataset into training and validation sets allowed us to train the model and test its performance on unseen data, ensuring a fair evaluation.  \n",
    "- By iterating over different values of **k**, we saw how model performance changes. Small values of **k** made the classifier more sensitive to local variations, while larger values produced smoother but less flexible decision boundaries.  \n",
    "- Plotting validation accuracy across values of **k** gave a clear view of the best choice for **k**, balancing accuracy and stability.  \n",
    "- Overall, this project demonstrated the workflow of a machine learning classification task: importing data, preprocessing, training a model, tuning parameters, and evaluating results visually and quantitatively.  \n"
   ]
  }
 ],
 "metadata": {
  "kernelspec": {
   "display_name": "Python 3 (ipykernel)",
   "language": "python",
   "name": "python3"
  },
  "language_info": {
   "codemirror_mode": {
    "name": "ipython",
    "version": 3
   },
   "file_extension": ".py",
   "mimetype": "text/x-python",
   "name": "python",
   "nbconvert_exporter": "python",
   "pygments_lexer": "ipython3",
   "version": "3.10.6"
  },
  "toc": {
   "base_numbering": 1,
   "nav_menu": {},
   "number_sections": true,
   "sideBar": true,
   "skip_h1_title": false,
   "title_cell": "Table of Contents",
   "title_sidebar": "Contents",
   "toc_cell": false,
   "toc_position": {},
   "toc_section_display": true,
   "toc_window_display": false
  }
 },
 "nbformat": 4,
 "nbformat_minor": 5
}
